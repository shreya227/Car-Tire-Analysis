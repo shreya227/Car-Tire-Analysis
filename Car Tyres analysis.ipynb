{
 "cells": [
  {
   "cell_type": "markdown",
   "id": "b3aa00ec",
   "metadata": {},
   "source": [
    "## 🔍Exploratory Data Analysis of Car Tyres dataset which has been collected from an e-commerce website using webscraping technique.\n",
    "\n"
   ]
  },
  {
   "cell_type": "markdown",
   "id": "cf8c5aa7",
   "metadata": {},
   "source": [
    "This dataset deals with tyres of Maruti Cars for various models."
   ]
  },
  {
   "cell_type": "code",
   "execution_count": 356,
   "id": "a45bad42",
   "metadata": {},
   "outputs": [],
   "source": [
    "import pandas as pd\n",
    "import numpy as np\n",
    "import plotly.express as px\n",
    "import matplotlib.pyplot as plt\n",
    "%matplotlib inline\n",
    "import seaborn as sns"
   ]
  },
  {
   "cell_type": "markdown",
   "id": "cd3499ab",
   "metadata": {},
   "source": [
    "###  📅Importing Dataset"
   ]
  },
  {
   "cell_type": "code",
   "execution_count": 357,
   "id": "4c75c2c8",
   "metadata": {},
   "outputs": [
    {
     "data": {
      "text/html": [
       "<div>\n",
       "<style scoped>\n",
       "    .dataframe tbody tr th:only-of-type {\n",
       "        vertical-align: middle;\n",
       "    }\n",
       "\n",
       "    .dataframe tbody tr th {\n",
       "        vertical-align: top;\n",
       "    }\n",
       "\n",
       "    .dataframe thead th {\n",
       "        text-align: right;\n",
       "    }\n",
       "</style>\n",
       "<table border=\"1\" class=\"dataframe\">\n",
       "  <thead>\n",
       "    <tr style=\"text-align: right;\">\n",
       "      <th></th>\n",
       "      <th>Brand</th>\n",
       "      <th>Model</th>\n",
       "      <th>Submodel</th>\n",
       "      <th>Tyre Brand</th>\n",
       "      <th>Serial No.</th>\n",
       "      <th>Type</th>\n",
       "      <th>Load Index</th>\n",
       "      <th>Size</th>\n",
       "      <th>Selling Price</th>\n",
       "      <th>Original Price</th>\n",
       "      <th>Rating</th>\n",
       "    </tr>\n",
       "  </thead>\n",
       "  <tbody>\n",
       "    <tr>\n",
       "      <th>0</th>\n",
       "      <td>Maruti</td>\n",
       "      <td>Swift Dzire</td>\n",
       "      <td>LDI (Diesel)</td>\n",
       "      <td>JKTyre</td>\n",
       "      <td>Taximaxx</td>\n",
       "      <td>Tubeless</td>\n",
       "      <td>85</td>\n",
       "      <td>165/80 R 14</td>\n",
       "      <td>3255</td>\n",
       "      <td>3255</td>\n",
       "      <td>5.0</td>\n",
       "    </tr>\n",
       "    <tr>\n",
       "      <th>1</th>\n",
       "      <td>Maruti</td>\n",
       "      <td>Swift Dzire</td>\n",
       "      <td>LDI (Diesel)</td>\n",
       "      <td>CEAT</td>\n",
       "      <td>Milage X3</td>\n",
       "      <td>Tubeless</td>\n",
       "      <td>85</td>\n",
       "      <td>165/80 R 14</td>\n",
       "      <td>3406</td>\n",
       "      <td>3406</td>\n",
       "      <td>4.0</td>\n",
       "    </tr>\n",
       "    <tr>\n",
       "      <th>2</th>\n",
       "      <td>Maruti</td>\n",
       "      <td>Swift Dzire</td>\n",
       "      <td>LDI (Diesel)</td>\n",
       "      <td>Apollo</td>\n",
       "      <td>Amazer 4G Life</td>\n",
       "      <td>Tubeless</td>\n",
       "      <td>85</td>\n",
       "      <td>165/80 R 14</td>\n",
       "      <td>3490</td>\n",
       "      <td>4319</td>\n",
       "      <td>4.5</td>\n",
       "    </tr>\n",
       "    <tr>\n",
       "      <th>3</th>\n",
       "      <td>Maruti</td>\n",
       "      <td>Swift Dzire</td>\n",
       "      <td>LDI (Diesel)</td>\n",
       "      <td>Continental</td>\n",
       "      <td>Comfort Contact CC6</td>\n",
       "      <td>Tubeless</td>\n",
       "      <td>85</td>\n",
       "      <td>165/80 R 14</td>\n",
       "      <td>4484</td>\n",
       "      <td>4244</td>\n",
       "      <td>NaN</td>\n",
       "    </tr>\n",
       "    <tr>\n",
       "      <th>4</th>\n",
       "      <td>Maruti</td>\n",
       "      <td>Swift Dzire</td>\n",
       "      <td>LDI (Diesel)</td>\n",
       "      <td>GoodYear</td>\n",
       "      <td>Assurance Duraplus 2</td>\n",
       "      <td>Tubeless</td>\n",
       "      <td>85</td>\n",
       "      <td>165/80 R 14</td>\n",
       "      <td>3025</td>\n",
       "      <td>3025</td>\n",
       "      <td>4.2</td>\n",
       "    </tr>\n",
       "    <tr>\n",
       "      <th>...</th>\n",
       "      <td>...</td>\n",
       "      <td>...</td>\n",
       "      <td>...</td>\n",
       "      <td>...</td>\n",
       "      <td>...</td>\n",
       "      <td>...</td>\n",
       "      <td>...</td>\n",
       "      <td>...</td>\n",
       "      <td>...</td>\n",
       "      <td>...</td>\n",
       "      <td>...</td>\n",
       "    </tr>\n",
       "    <tr>\n",
       "      <th>4345</th>\n",
       "      <td>Maruti</td>\n",
       "      <td>Swift Deca</td>\n",
       "      <td>VXI</td>\n",
       "      <td>MRF</td>\n",
       "      <td>ZLX</td>\n",
       "      <td>Tubeless</td>\n",
       "      <td>85</td>\n",
       "      <td>165/80 R 14</td>\n",
       "      <td>4038</td>\n",
       "      <td>4038</td>\n",
       "      <td>4.0</td>\n",
       "    </tr>\n",
       "    <tr>\n",
       "      <th>4346</th>\n",
       "      <td>Maruti</td>\n",
       "      <td>Swift Deca</td>\n",
       "      <td>VDI</td>\n",
       "      <td>UltraMile</td>\n",
       "      <td>UM 551</td>\n",
       "      <td>Tubeless</td>\n",
       "      <td>85</td>\n",
       "      <td>165/80 R 14</td>\n",
       "      <td>4045</td>\n",
       "      <td>4045</td>\n",
       "      <td>3.0</td>\n",
       "    </tr>\n",
       "    <tr>\n",
       "      <th>4347</th>\n",
       "      <td>Maruti</td>\n",
       "      <td>Swift Deca</td>\n",
       "      <td>VXI</td>\n",
       "      <td>UltraMile</td>\n",
       "      <td>UM 551</td>\n",
       "      <td>Tubeless</td>\n",
       "      <td>85</td>\n",
       "      <td>165/80 R 14</td>\n",
       "      <td>4045</td>\n",
       "      <td>4045</td>\n",
       "      <td>3.0</td>\n",
       "    </tr>\n",
       "    <tr>\n",
       "      <th>4348</th>\n",
       "      <td>Maruti</td>\n",
       "      <td>Swift Deca</td>\n",
       "      <td>VDI</td>\n",
       "      <td>Yokohama</td>\n",
       "      <td>Earth-1 E400</td>\n",
       "      <td>Tubeless</td>\n",
       "      <td>85</td>\n",
       "      <td>165/80 R 14</td>\n",
       "      <td>3904</td>\n",
       "      <td>3904</td>\n",
       "      <td>3.0</td>\n",
       "    </tr>\n",
       "    <tr>\n",
       "      <th>4349</th>\n",
       "      <td>Maruti</td>\n",
       "      <td>Swift Deca</td>\n",
       "      <td>VXI</td>\n",
       "      <td>Yokohama</td>\n",
       "      <td>Earth-1 E400</td>\n",
       "      <td>Tubeless</td>\n",
       "      <td>85</td>\n",
       "      <td>165/80 R 14</td>\n",
       "      <td>3904</td>\n",
       "      <td>3904</td>\n",
       "      <td>3.0</td>\n",
       "    </tr>\n",
       "  </tbody>\n",
       "</table>\n",
       "<p>4350 rows × 11 columns</p>\n",
       "</div>"
      ],
      "text/plain": [
       "      Brand         Model      Submodel   Tyre Brand            Serial No.  \\\n",
       "0     Maruti  Swift Dzire  LDI (Diesel)       JKTyre              Taximaxx   \n",
       "1     Maruti  Swift Dzire  LDI (Diesel)         CEAT             Milage X3   \n",
       "2     Maruti  Swift Dzire  LDI (Diesel)       Apollo        Amazer 4G Life   \n",
       "3     Maruti  Swift Dzire  LDI (Diesel)  Continental   Comfort Contact CC6   \n",
       "4     Maruti  Swift Dzire  LDI (Diesel)     GoodYear  Assurance Duraplus 2   \n",
       "...      ...          ...           ...          ...                   ...   \n",
       "4345  Maruti   Swift Deca           VXI          MRF                   ZLX   \n",
       "4346  Maruti   Swift Deca           VDI    UltraMile                UM 551   \n",
       "4347  Maruti   Swift Deca           VXI    UltraMile                UM 551   \n",
       "4348  Maruti   Swift Deca           VDI     Yokohama          Earth-1 E400   \n",
       "4349  Maruti   Swift Deca           VXI     Yokohama          Earth-1 E400   \n",
       "\n",
       "          Type  Load Index         Size  Selling Price  Original Price  Rating  \n",
       "0     Tubeless          85  165/80 R 14           3255            3255     5.0  \n",
       "1     Tubeless          85  165/80 R 14           3406            3406     4.0  \n",
       "2     Tubeless          85  165/80 R 14           3490            4319     4.5  \n",
       "3     Tubeless          85  165/80 R 14           4484            4244     NaN  \n",
       "4     Tubeless          85  165/80 R 14           3025            3025     4.2  \n",
       "...        ...         ...          ...            ...             ...     ...  \n",
       "4345  Tubeless          85  165/80 R 14           4038            4038     4.0  \n",
       "4346  Tubeless          85  165/80 R 14           4045            4045     3.0  \n",
       "4347  Tubeless          85  165/80 R 14           4045            4045     3.0  \n",
       "4348  Tubeless          85  165/80 R 14           3904            3904     3.0  \n",
       "4349  Tubeless          85  165/80 R 14           3904            3904     3.0  \n",
       "\n",
       "[4350 rows x 11 columns]"
      ]
     },
     "execution_count": 357,
     "metadata": {},
     "output_type": "execute_result"
    }
   ],
   "source": [
    "data = pd.read_csv(\"C:\\\\Users\\\\hp\\\\AppData\\\\Local\\\\Temp\\\\Rar$DIa0.300\\\\Car_Tyres_Dataset.csv\")\n",
    "data"
   ]
  },
  {
   "cell_type": "code",
   "execution_count": 358,
   "id": "c38a86ec",
   "metadata": {},
   "outputs": [
    {
     "data": {
      "text/plain": [
       "Brand              object\n",
       "Model              object\n",
       "Submodel           object\n",
       "Tyre Brand         object\n",
       "Serial No.         object\n",
       "Type               object\n",
       "Load Index          int64\n",
       "Size               object\n",
       "Selling Price       int64\n",
       "Original Price      int64\n",
       "Rating            float64\n",
       "dtype: object"
      ]
     },
     "execution_count": 358,
     "metadata": {},
     "output_type": "execute_result"
    }
   ],
   "source": [
    "data.dtypes"
   ]
  },
  {
   "cell_type": "code",
   "execution_count": 359,
   "id": "c9c81e2f",
   "metadata": {},
   "outputs": [
    {
     "data": {
      "text/plain": [
       "Brand                0\n",
       "Model                0\n",
       "Submodel             0\n",
       "Tyre Brand           0\n",
       "Serial No.           0\n",
       "Type                 0\n",
       "Load Index           0\n",
       "Size                 0\n",
       "Selling Price        0\n",
       "Original Price       0\n",
       "Rating            2102\n",
       "dtype: int64"
      ]
     },
     "execution_count": 359,
     "metadata": {},
     "output_type": "execute_result"
    }
   ],
   "source": [
    "data.isnull().sum()"
   ]
  },
  {
   "cell_type": "markdown",
   "id": "4389187c",
   "metadata": {},
   "source": [
    "### 🤔Dropping unwanted columns "
   ]
  },
  {
   "cell_type": "code",
   "execution_count": 360,
   "id": "7945a68b",
   "metadata": {},
   "outputs": [
    {
     "data": {
      "text/html": [
       "<div>\n",
       "<style scoped>\n",
       "    .dataframe tbody tr th:only-of-type {\n",
       "        vertical-align: middle;\n",
       "    }\n",
       "\n",
       "    .dataframe tbody tr th {\n",
       "        vertical-align: top;\n",
       "    }\n",
       "\n",
       "    .dataframe thead th {\n",
       "        text-align: right;\n",
       "    }\n",
       "</style>\n",
       "<table border=\"1\" class=\"dataframe\">\n",
       "  <thead>\n",
       "    <tr style=\"text-align: right;\">\n",
       "      <th></th>\n",
       "      <th>Brand</th>\n",
       "      <th>Model</th>\n",
       "      <th>Submodel</th>\n",
       "      <th>Tyre Brand</th>\n",
       "      <th>Type</th>\n",
       "      <th>Load Index</th>\n",
       "      <th>Size</th>\n",
       "      <th>Selling Price</th>\n",
       "      <th>Original Price</th>\n",
       "      <th>Rating</th>\n",
       "    </tr>\n",
       "  </thead>\n",
       "  <tbody>\n",
       "    <tr>\n",
       "      <th>0</th>\n",
       "      <td>Maruti</td>\n",
       "      <td>Swift Dzire</td>\n",
       "      <td>LDI (Diesel)</td>\n",
       "      <td>JKTyre</td>\n",
       "      <td>Tubeless</td>\n",
       "      <td>85</td>\n",
       "      <td>165/80 R 14</td>\n",
       "      <td>3255</td>\n",
       "      <td>3255</td>\n",
       "      <td>5.0</td>\n",
       "    </tr>\n",
       "    <tr>\n",
       "      <th>1</th>\n",
       "      <td>Maruti</td>\n",
       "      <td>Swift Dzire</td>\n",
       "      <td>LDI (Diesel)</td>\n",
       "      <td>CEAT</td>\n",
       "      <td>Tubeless</td>\n",
       "      <td>85</td>\n",
       "      <td>165/80 R 14</td>\n",
       "      <td>3406</td>\n",
       "      <td>3406</td>\n",
       "      <td>4.0</td>\n",
       "    </tr>\n",
       "    <tr>\n",
       "      <th>2</th>\n",
       "      <td>Maruti</td>\n",
       "      <td>Swift Dzire</td>\n",
       "      <td>LDI (Diesel)</td>\n",
       "      <td>Apollo</td>\n",
       "      <td>Tubeless</td>\n",
       "      <td>85</td>\n",
       "      <td>165/80 R 14</td>\n",
       "      <td>3490</td>\n",
       "      <td>4319</td>\n",
       "      <td>4.5</td>\n",
       "    </tr>\n",
       "    <tr>\n",
       "      <th>3</th>\n",
       "      <td>Maruti</td>\n",
       "      <td>Swift Dzire</td>\n",
       "      <td>LDI (Diesel)</td>\n",
       "      <td>Continental</td>\n",
       "      <td>Tubeless</td>\n",
       "      <td>85</td>\n",
       "      <td>165/80 R 14</td>\n",
       "      <td>4484</td>\n",
       "      <td>4244</td>\n",
       "      <td>0.0</td>\n",
       "    </tr>\n",
       "    <tr>\n",
       "      <th>4</th>\n",
       "      <td>Maruti</td>\n",
       "      <td>Swift Dzire</td>\n",
       "      <td>LDI (Diesel)</td>\n",
       "      <td>GoodYear</td>\n",
       "      <td>Tubeless</td>\n",
       "      <td>85</td>\n",
       "      <td>165/80 R 14</td>\n",
       "      <td>3025</td>\n",
       "      <td>3025</td>\n",
       "      <td>4.2</td>\n",
       "    </tr>\n",
       "    <tr>\n",
       "      <th>...</th>\n",
       "      <td>...</td>\n",
       "      <td>...</td>\n",
       "      <td>...</td>\n",
       "      <td>...</td>\n",
       "      <td>...</td>\n",
       "      <td>...</td>\n",
       "      <td>...</td>\n",
       "      <td>...</td>\n",
       "      <td>...</td>\n",
       "      <td>...</td>\n",
       "    </tr>\n",
       "    <tr>\n",
       "      <th>4345</th>\n",
       "      <td>Maruti</td>\n",
       "      <td>Swift Deca</td>\n",
       "      <td>VXI</td>\n",
       "      <td>MRF</td>\n",
       "      <td>Tubeless</td>\n",
       "      <td>85</td>\n",
       "      <td>165/80 R 14</td>\n",
       "      <td>4038</td>\n",
       "      <td>4038</td>\n",
       "      <td>4.0</td>\n",
       "    </tr>\n",
       "    <tr>\n",
       "      <th>4346</th>\n",
       "      <td>Maruti</td>\n",
       "      <td>Swift Deca</td>\n",
       "      <td>VDI</td>\n",
       "      <td>UltraMile</td>\n",
       "      <td>Tubeless</td>\n",
       "      <td>85</td>\n",
       "      <td>165/80 R 14</td>\n",
       "      <td>4045</td>\n",
       "      <td>4045</td>\n",
       "      <td>3.0</td>\n",
       "    </tr>\n",
       "    <tr>\n",
       "      <th>4347</th>\n",
       "      <td>Maruti</td>\n",
       "      <td>Swift Deca</td>\n",
       "      <td>VXI</td>\n",
       "      <td>UltraMile</td>\n",
       "      <td>Tubeless</td>\n",
       "      <td>85</td>\n",
       "      <td>165/80 R 14</td>\n",
       "      <td>4045</td>\n",
       "      <td>4045</td>\n",
       "      <td>3.0</td>\n",
       "    </tr>\n",
       "    <tr>\n",
       "      <th>4348</th>\n",
       "      <td>Maruti</td>\n",
       "      <td>Swift Deca</td>\n",
       "      <td>VDI</td>\n",
       "      <td>Yokohama</td>\n",
       "      <td>Tubeless</td>\n",
       "      <td>85</td>\n",
       "      <td>165/80 R 14</td>\n",
       "      <td>3904</td>\n",
       "      <td>3904</td>\n",
       "      <td>3.0</td>\n",
       "    </tr>\n",
       "    <tr>\n",
       "      <th>4349</th>\n",
       "      <td>Maruti</td>\n",
       "      <td>Swift Deca</td>\n",
       "      <td>VXI</td>\n",
       "      <td>Yokohama</td>\n",
       "      <td>Tubeless</td>\n",
       "      <td>85</td>\n",
       "      <td>165/80 R 14</td>\n",
       "      <td>3904</td>\n",
       "      <td>3904</td>\n",
       "      <td>3.0</td>\n",
       "    </tr>\n",
       "  </tbody>\n",
       "</table>\n",
       "<p>4350 rows × 10 columns</p>\n",
       "</div>"
      ],
      "text/plain": [
       "      Brand         Model      Submodel   Tyre Brand      Type  Load Index  \\\n",
       "0     Maruti  Swift Dzire  LDI (Diesel)       JKTyre  Tubeless          85   \n",
       "1     Maruti  Swift Dzire  LDI (Diesel)         CEAT  Tubeless          85   \n",
       "2     Maruti  Swift Dzire  LDI (Diesel)       Apollo  Tubeless          85   \n",
       "3     Maruti  Swift Dzire  LDI (Diesel)  Continental  Tubeless          85   \n",
       "4     Maruti  Swift Dzire  LDI (Diesel)     GoodYear  Tubeless          85   \n",
       "...      ...          ...           ...          ...       ...         ...   \n",
       "4345  Maruti   Swift Deca           VXI          MRF  Tubeless          85   \n",
       "4346  Maruti   Swift Deca           VDI    UltraMile  Tubeless          85   \n",
       "4347  Maruti   Swift Deca           VXI    UltraMile  Tubeless          85   \n",
       "4348  Maruti   Swift Deca           VDI     Yokohama  Tubeless          85   \n",
       "4349  Maruti   Swift Deca           VXI     Yokohama  Tubeless          85   \n",
       "\n",
       "             Size  Selling Price  Original Price  Rating  \n",
       "0     165/80 R 14           3255            3255     5.0  \n",
       "1     165/80 R 14           3406            3406     4.0  \n",
       "2     165/80 R 14           3490            4319     4.5  \n",
       "3     165/80 R 14           4484            4244     0.0  \n",
       "4     165/80 R 14           3025            3025     4.2  \n",
       "...           ...            ...             ...     ...  \n",
       "4345  165/80 R 14           4038            4038     4.0  \n",
       "4346  165/80 R 14           4045            4045     3.0  \n",
       "4347  165/80 R 14           4045            4045     3.0  \n",
       "4348  165/80 R 14           3904            3904     3.0  \n",
       "4349  165/80 R 14           3904            3904     3.0  \n",
       "\n",
       "[4350 rows x 10 columns]"
      ]
     },
     "execution_count": 360,
     "metadata": {},
     "output_type": "execute_result"
    }
   ],
   "source": [
    "data.fillna(0).drop(['Serial No.'], axis=1)"
   ]
  },
  {
   "cell_type": "markdown",
   "id": "3e87004f",
   "metadata": {},
   "source": [
    "### 📊Data Analysis"
   ]
  },
  {
   "cell_type": "code",
   "execution_count": 361,
   "id": "52ad3c9f",
   "metadata": {},
   "outputs": [
    {
     "name": "stdout",
     "output_type": "stream",
     "text": [
      "Total 30 different models\n",
      "Total 16 different tyre brands\n"
     ]
    }
   ],
   "source": [
    "print (\"Total\", data['Model'].nunique(), \"different models\" )\n",
    "print (\"Total\", data['Tyre Brand'].nunique(), \"different tyre brands\")"
   ]
  },
  {
   "cell_type": "code",
   "execution_count": 362,
   "id": "0ae0d1bb",
   "metadata": {},
   "outputs": [
    {
     "name": "stdout",
     "output_type": "stream",
     "text": [
      "Different types of tyre brands are: \n",
      " ['JKTyre' 'CEAT' 'Apollo' 'Continental' 'GoodYear' 'Firestone'\n",
      " 'BridgeStone' 'Falken' 'MRF' 'UltraMile' 'Yokohama' 'Kumho' 'Pirelli'\n",
      " 'Michelin' 'Hankook' 'Maxxis']\n"
     ]
    }
   ],
   "source": [
    "print(\"Different types of tyre brands are:\",'\\n',data['Tyre Brand'].unique())"
   ]
  },
  {
   "cell_type": "code",
   "execution_count": 364,
   "id": "0dbe0195",
   "metadata": {},
   "outputs": [
    {
     "name": "stdout",
     "output_type": "stream",
     "text": [
      "Tubeless    4061\n",
      "Tube         289\n",
      "Name: Type, dtype: int64 \n",
      "\n",
      "Tubeless    93%\n",
      "Tube         7%\n",
      "Name: Type, dtype: object\n"
     ]
    },
    {
     "name": "stderr",
     "output_type": "stream",
     "text": [
      "<ipython-input-364-dc117db1ebb9>:2: FutureWarning: The default value of regex will change from True to False in a future version.\n",
      "  pd.DataFrame(print(round(data['Type'].value_counts(normalize=True)*100).astype(str).str.replace('.0','%')));\n"
     ]
    },
    {
     "data": {
      "image/png": "[encoded data removed]",
      "text/plain": [
       "<Figure size 432x288 with 1 Axes>"
      ]
     },
     "metadata": {
      "needs_background": "light"
     },
     "output_type": "display_data"
    }
   ],
   "source": [
    "print(data['Type'].value_counts(),'\\n')\n",
    "pd.DataFrame(print(round(data['Type'].value_counts(normalize=True)*100).astype(str).str.replace('.0','%')));\n",
    "sns.countplot(x='Type', data=data);"
   ]
  },
  {
   "cell_type": "code",
   "execution_count": 365,
   "id": "83265eaf",
   "metadata": {},
   "outputs": [
    {
     "data": {
      "text/html": [
       "<div>\n",
       "<style scoped>\n",
       "    .dataframe tbody tr th:only-of-type {\n",
       "        vertical-align: middle;\n",
       "    }\n",
       "\n",
       "    .dataframe tbody tr th {\n",
       "        vertical-align: top;\n",
       "    }\n",
       "\n",
       "    .dataframe thead th {\n",
       "        text-align: right;\n",
       "    }\n",
       "</style>\n",
       "<table border=\"1\" class=\"dataframe\">\n",
       "  <thead>\n",
       "    <tr style=\"text-align: right;\">\n",
       "      <th>Type</th>\n",
       "      <th>Tube</th>\n",
       "      <th>Tubeless</th>\n",
       "    </tr>\n",
       "    <tr>\n",
       "      <th>Tyre Brand</th>\n",
       "      <th></th>\n",
       "      <th></th>\n",
       "    </tr>\n",
       "  </thead>\n",
       "  <tbody>\n",
       "    <tr>\n",
       "      <th>Apollo</th>\n",
       "      <td>20</td>\n",
       "      <td>380</td>\n",
       "    </tr>\n",
       "    <tr>\n",
       "      <th>BridgeStone</th>\n",
       "      <td>33</td>\n",
       "      <td>577</td>\n",
       "    </tr>\n",
       "    <tr>\n",
       "      <th>CEAT</th>\n",
       "      <td>42</td>\n",
       "      <td>407</td>\n",
       "    </tr>\n",
       "    <tr>\n",
       "      <th>Continental</th>\n",
       "      <td>0</td>\n",
       "      <td>339</td>\n",
       "    </tr>\n",
       "    <tr>\n",
       "      <th>Falken</th>\n",
       "      <td>0</td>\n",
       "      <td>269</td>\n",
       "    </tr>\n",
       "  </tbody>\n",
       "</table>\n",
       "</div>"
      ],
      "text/plain": [
       "Type         Tube  Tubeless\n",
       "Tyre Brand                 \n",
       "Apollo         20       380\n",
       "BridgeStone    33       577\n",
       "CEAT           42       407\n",
       "Continental     0       339\n",
       "Falken          0       269"
      ]
     },
     "execution_count": 365,
     "metadata": {},
     "output_type": "execute_result"
    }
   ],
   "source": [
    "cross_tab_prop = pd.crosstab(index=data['Tyre Brand'],\n",
    "                             columns=data['Type'],\n",
    "                            )\n",
    "cross_tab_prop.head()"
   ]
  },
  {
   "cell_type": "code",
   "execution_count": 366,
   "id": "e63a0036",
   "metadata": {},
   "outputs": [
    {
     "data": {
      "image/png": "[encoded data removed]",
      "text/plain": [
       "<Figure size 2880x1080 with 1 Axes>"
      ]
     },
     "metadata": {
      "needs_background": "light"
     },
     "output_type": "display_data"
    }
   ],
   "source": [
    "cross_tab_prop.plot(kind='bar', \n",
    "                    stacked=True, \n",
    "                    colormap='tab10', \n",
    "                    figsize=(40, 15),width=0.7)\n",
    "plt.legend(loc=\"upper right\", ncol=2, fontsize=30)\n",
    "plt.xticks(rotation=90,fontsize=32, fontweight='bold');\n",
    "plt.yticks(rotation=0,fontsize=32, fontweight='bold');"
   ]
  },
  {
   "cell_type": "code",
   "execution_count": 367,
   "id": "c05d7388",
   "metadata": {},
   "outputs": [
    {
     "data": {
      "text/html": [
       "<div>\n",
       "<style scoped>\n",
       "    .dataframe tbody tr th:only-of-type {\n",
       "        vertical-align: middle;\n",
       "    }\n",
       "\n",
       "    .dataframe tbody tr th {\n",
       "        vertical-align: top;\n",
       "    }\n",
       "\n",
       "    .dataframe thead th {\n",
       "        text-align: right;\n",
       "    }\n",
       "</style>\n",
       "<table border=\"1\" class=\"dataframe\">\n",
       "  <thead>\n",
       "    <tr style=\"text-align: right;\">\n",
       "      <th></th>\n",
       "      <th>Rating</th>\n",
       "    </tr>\n",
       "    <tr>\n",
       "      <th>Tyre Brand</th>\n",
       "      <th></th>\n",
       "    </tr>\n",
       "  </thead>\n",
       "  <tbody>\n",
       "    <tr>\n",
       "      <th>Firestone</th>\n",
       "      <td>5.00</td>\n",
       "    </tr>\n",
       "    <tr>\n",
       "      <th>Pirelli</th>\n",
       "      <td>4.86</td>\n",
       "    </tr>\n",
       "    <tr>\n",
       "      <th>JKTyre</th>\n",
       "      <td>4.49</td>\n",
       "    </tr>\n",
       "    <tr>\n",
       "      <th>CEAT</th>\n",
       "      <td>4.45</td>\n",
       "    </tr>\n",
       "    <tr>\n",
       "      <th>GoodYear</th>\n",
       "      <td>4.37</td>\n",
       "    </tr>\n",
       "    <tr>\n",
       "      <th>Apollo</th>\n",
       "      <td>4.33</td>\n",
       "    </tr>\n",
       "    <tr>\n",
       "      <th>Falken</th>\n",
       "      <td>4.31</td>\n",
       "    </tr>\n",
       "    <tr>\n",
       "      <th>BridgeStone</th>\n",
       "      <td>4.24</td>\n",
       "    </tr>\n",
       "    <tr>\n",
       "      <th>Yokohama</th>\n",
       "      <td>4.24</td>\n",
       "    </tr>\n",
       "    <tr>\n",
       "      <th>Michelin</th>\n",
       "      <td>4.07</td>\n",
       "    </tr>\n",
       "    <tr>\n",
       "      <th>MRF</th>\n",
       "      <td>4.03</td>\n",
       "    </tr>\n",
       "    <tr>\n",
       "      <th>Continental</th>\n",
       "      <td>3.99</td>\n",
       "    </tr>\n",
       "    <tr>\n",
       "      <th>UltraMile</th>\n",
       "      <td>3.94</td>\n",
       "    </tr>\n",
       "    <tr>\n",
       "      <th>Hankook</th>\n",
       "      <td>NaN</td>\n",
       "    </tr>\n",
       "    <tr>\n",
       "      <th>Kumho</th>\n",
       "      <td>NaN</td>\n",
       "    </tr>\n",
       "    <tr>\n",
       "      <th>Maxxis</th>\n",
       "      <td>NaN</td>\n",
       "    </tr>\n",
       "  </tbody>\n",
       "</table>\n",
       "</div>"
      ],
      "text/plain": [
       "             Rating\n",
       "Tyre Brand         \n",
       "Firestone      5.00\n",
       "Pirelli        4.86\n",
       "JKTyre         4.49\n",
       "CEAT           4.45\n",
       "GoodYear       4.37\n",
       "Apollo         4.33\n",
       "Falken         4.31\n",
       "BridgeStone    4.24\n",
       "Yokohama       4.24\n",
       "Michelin       4.07\n",
       "MRF            4.03\n",
       "Continental    3.99\n",
       "UltraMile      3.94\n",
       "Hankook         NaN\n",
       "Kumho           NaN\n",
       "Maxxis          NaN"
      ]
     },
     "execution_count": 367,
     "metadata": {},
     "output_type": "execute_result"
    }
   ],
   "source": [
    "pd.DataFrame(round(data.groupby('Tyre Brand').mean()['Rating'].sort_values(ascending=False),2))"
   ]
  },
  {
   "cell_type": "code",
   "execution_count": 368,
   "id": "d235807f",
   "metadata": {},
   "outputs": [
    {
     "data": {
      "text/html": [
       "<div>\n",
       "<style scoped>\n",
       "    .dataframe tbody tr th:only-of-type {\n",
       "        vertical-align: middle;\n",
       "    }\n",
       "\n",
       "    .dataframe tbody tr th {\n",
       "        vertical-align: top;\n",
       "    }\n",
       "\n",
       "    .dataframe thead th {\n",
       "        text-align: right;\n",
       "    }\n",
       "</style>\n",
       "<table border=\"1\" class=\"dataframe\">\n",
       "  <thead>\n",
       "    <tr style=\"text-align: right;\">\n",
       "      <th></th>\n",
       "      <th>Rating</th>\n",
       "    </tr>\n",
       "    <tr>\n",
       "      <th>Model</th>\n",
       "      <th></th>\n",
       "    </tr>\n",
       "  </thead>\n",
       "  <tbody>\n",
       "    <tr>\n",
       "      <th>Gypsy</th>\n",
       "      <td>5.0</td>\n",
       "    </tr>\n",
       "    <tr>\n",
       "      <th>Grand Vitara</th>\n",
       "      <td>5.0</td>\n",
       "    </tr>\n",
       "    <tr>\n",
       "      <th>Celerio X</th>\n",
       "      <td>4.5</td>\n",
       "    </tr>\n",
       "    <tr>\n",
       "      <th>800</th>\n",
       "      <td>4.5</td>\n",
       "    </tr>\n",
       "    <tr>\n",
       "      <th>Alto K10</th>\n",
       "      <td>4.4</td>\n",
       "    </tr>\n",
       "    <tr>\n",
       "      <th>Eeco</th>\n",
       "      <td>4.4</td>\n",
       "    </tr>\n",
       "    <tr>\n",
       "      <th>Omni</th>\n",
       "      <td>4.4</td>\n",
       "    </tr>\n",
       "    <tr>\n",
       "      <th>Ertiga</th>\n",
       "      <td>4.4</td>\n",
       "    </tr>\n",
       "    <tr>\n",
       "      <th>Alto</th>\n",
       "      <td>4.4</td>\n",
       "    </tr>\n",
       "    <tr>\n",
       "      <th>Celerio</th>\n",
       "      <td>4.4</td>\n",
       "    </tr>\n",
       "    <tr>\n",
       "      <th>New Swift (2018)</th>\n",
       "      <td>4.3</td>\n",
       "    </tr>\n",
       "    <tr>\n",
       "      <th>Ciaz</th>\n",
       "      <td>4.3</td>\n",
       "    </tr>\n",
       "    <tr>\n",
       "      <th>A-Star</th>\n",
       "      <td>4.3</td>\n",
       "    </tr>\n",
       "    <tr>\n",
       "      <th>Dzire</th>\n",
       "      <td>4.3</td>\n",
       "    </tr>\n",
       "    <tr>\n",
       "      <th>Stingray</th>\n",
       "      <td>4.3</td>\n",
       "    </tr>\n",
       "    <tr>\n",
       "      <th>Esteem</th>\n",
       "      <td>4.3</td>\n",
       "    </tr>\n",
       "    <tr>\n",
       "      <th>SX4</th>\n",
       "      <td>4.3</td>\n",
       "    </tr>\n",
       "    <tr>\n",
       "      <th>Zen</th>\n",
       "      <td>4.2</td>\n",
       "    </tr>\n",
       "    <tr>\n",
       "      <th>Zen Estilo</th>\n",
       "      <td>4.2</td>\n",
       "    </tr>\n",
       "    <tr>\n",
       "      <th>Swift Dzire</th>\n",
       "      <td>4.2</td>\n",
       "    </tr>\n",
       "    <tr>\n",
       "      <th>Ritz</th>\n",
       "      <td>4.2</td>\n",
       "    </tr>\n",
       "    <tr>\n",
       "      <th>Wagon R</th>\n",
       "      <td>4.2</td>\n",
       "    </tr>\n",
       "    <tr>\n",
       "      <th>Swift Dzire 2008</th>\n",
       "      <td>4.1</td>\n",
       "    </tr>\n",
       "    <tr>\n",
       "      <th>Swift Deca</th>\n",
       "      <td>4.1</td>\n",
       "    </tr>\n",
       "    <tr>\n",
       "      <th>Swift</th>\n",
       "      <td>4.0</td>\n",
       "    </tr>\n",
       "    <tr>\n",
       "      <th>Fronx</th>\n",
       "      <td>4.0</td>\n",
       "    </tr>\n",
       "    <tr>\n",
       "      <th>Baleno</th>\n",
       "      <td>3.9</td>\n",
       "    </tr>\n",
       "    <tr>\n",
       "      <th>Vitara Brezza</th>\n",
       "      <td>3.9</td>\n",
       "    </tr>\n",
       "    <tr>\n",
       "      <th>Grand Vitara 2003-2007 XI</th>\n",
       "      <td>NaN</td>\n",
       "    </tr>\n",
       "    <tr>\n",
       "      <th>Kizashi</th>\n",
       "      <td>NaN</td>\n",
       "    </tr>\n",
       "  </tbody>\n",
       "</table>\n",
       "</div>"
      ],
      "text/plain": [
       "                           Rating\n",
       "Model                            \n",
       "Gypsy                         5.0\n",
       "Grand Vitara                  5.0\n",
       "Celerio X                     4.5\n",
       "800                           4.5\n",
       "Alto K10                      4.4\n",
       "Eeco                          4.4\n",
       "Omni                          4.4\n",
       "Ertiga                        4.4\n",
       "Alto                          4.4\n",
       "Celerio                       4.4\n",
       "New Swift (2018)              4.3\n",
       "Ciaz                          4.3\n",
       "A-Star                        4.3\n",
       "Dzire                         4.3\n",
       "Stingray                      4.3\n",
       "Esteem                        4.3\n",
       "SX4                           4.3\n",
       "Zen                           4.2\n",
       "Zen Estilo                    4.2\n",
       "Swift Dzire                   4.2\n",
       "Ritz                          4.2\n",
       "Wagon R                       4.2\n",
       "Swift Dzire 2008              4.1\n",
       "Swift Deca                    4.1\n",
       "Swift                         4.0\n",
       "Fronx                         4.0\n",
       "Baleno                        3.9\n",
       "Vitara Brezza                 3.9\n",
       "Grand Vitara 2003-2007 XI     NaN\n",
       "Kizashi                       NaN"
      ]
     },
     "execution_count": 368,
     "metadata": {},
     "output_type": "execute_result"
    }
   ],
   "source": [
    "pd.DataFrame(round(data.groupby('Model').mean()['Rating'].sort_values(ascending=False),1))"
   ]
  },
  {
   "cell_type": "code",
   "execution_count": 398,
   "id": "ea3ec55b",
   "metadata": {
    "scrolled": false
   },
   "outputs": [
    {
     "name": "stderr",
     "output_type": "stream",
     "text": [
      "<ipython-input-398-c70f7d0f9252>:3: FutureWarning: The default value of regex will change from True to False in a future version.\n",
      "  df_4 =round(data['Tyre Brand'].value_counts(normalize=True)*100).astype('str').str.replace('.0','%').fillna(0)\n"
     ]
    },
    {
     "name": "stdout",
     "output_type": "stream",
     "text": [
      "             Count percentage\n",
      "BridgeStone    610        14%\n",
      "GoodYear       501        12%\n",
      "CEAT           449         %%\n",
      "JKTyre         445         %%\n",
      "Apollo         400         9%\n",
      "Yokohama       379         9%\n",
      "Continental    339         8%\n",
      "Falken         269         6%\n",
      "MRF            263         6%\n",
      "Firestone      171         4%\n",
      "UltraMile      149         3%\n",
      "Michelin       130         3%\n",
      "Pirelli        104         2%\n",
      "Hankook         65         1%\n",
      "Kumho           57         1%\n",
      "Maxxis          19         0%\n"
     ]
    },
    {
     "data": {
      "image/png": "[encoded data removed]",
      "text/plain": [
       "<Figure size 576x504 with 1 Axes>"
      ]
     },
     "metadata": {
      "needs_background": "light"
     },
     "output_type": "display_data"
    }
   ],
   "source": [
    "new = pd.DataFrame()\n",
    "df_3 = data['Tyre Brand'].value_counts()\n",
    "df_4 =round(data['Tyre Brand'].value_counts(normalize=True)*100).astype('str').str.replace('.0','%').fillna(0)\n",
    "new['Count']=df_3\n",
    "new['percentage']=df_4\n",
    "print(new)\n",
    "\n",
    "plt.figure(figsize=(8, 7))\n",
    "sns.countplot(y='Tyre Brand', data= data, palette=\"copper_r\", order = data['Tyre Brand'].value_counts().index);"
   ]
  },
  {
   "cell_type": "code",
   "execution_count": 381,
   "id": "920a518f",
   "metadata": {},
   "outputs": [
    {
     "data": {
      "text/plain": [
       "<AxesSubplot:xlabel='count', ylabel='Model'>"
      ]
     },
     "execution_count": 381,
     "metadata": {},
     "output_type": "execute_result"
    },
    {
     "data": {
      "image/png": "[encoded data removed]",
      "text/plain": [
       "<Figure size 576x720 with 1 Axes>"
      ]
     },
     "metadata": {
      "needs_background": "light"
     },
     "output_type": "display_data"
    }
   ],
   "source": [
    "plt.figure(figsize=(8, 10))\n",
    "sns.countplot(y='Model', data=data,hue='Type', palette=[\"#577399\",\"#b23a48\"],order=data['Model'].value_counts().index[:17])"
   ]
  },
  {
   "cell_type": "code",
   "execution_count": 436,
   "id": "b697b171",
   "metadata": {},
   "outputs": [
    {
     "data": {
      "text/plain": [
       "<AxesSubplot:xlabel='count', ylabel='Size'>"
      ]
     },
     "execution_count": 436,
     "metadata": {},
     "output_type": "execute_result"
    },
    {
     "data": {
      "image/png": "[encoded data removed]",
      "text/plain": [
       "<Figure size 432x288 with 1 Axes>"
      ]
     },
     "metadata": {
      "needs_background": "light"
     },
     "output_type": "display_data"
    }
   ],
   "source": [
    "sns.countplot(y='Size', data=data,order=data['Size'].value_counts().iloc[:8].index, palette='turbo')"
   ]
  },
  {
   "cell_type": "code",
   "execution_count": 435,
   "id": "50c70265",
   "metadata": {},
   "outputs": [
    {
     "data": {
      "text/plain": [
       "<matplotlib.legend.Legend at 0x232163d8c10>"
      ]
     },
     "execution_count": 435,
     "metadata": {},
     "output_type": "execute_result"
    },
    {
     "data": {
      "image/png": "[encoded data removed]",
      "text/plain": [
       "<Figure size 576x720 with 1 Axes>"
      ]
     },
     "metadata": {
      "needs_background": "light"
     },
     "output_type": "display_data"
    }
   ],
   "source": [
    "plt.figure(figsize=(8, 10))\n",
    "sns.countplot(x='Size', data=data,hue='Type', palette='turbo_r',order=data['Size'].value_counts().index[:5])\n",
    "plt.legend(loc='upper right', fontsize=12)"
   ]
  },
  {
   "cell_type": "code",
   "execution_count": 363,
   "id": "d77c7462",
   "metadata": {},
   "outputs": [
    {
     "name": "stderr",
     "output_type": "stream",
     "text": [
      "D:\\Anaconda\\lib\\site-packages\\seaborn\\distributions.py:2557: FutureWarning: `distplot` is a deprecated function and will be removed in a future version. Please adapt your code to use either `displot` (a figure-level function with similar flexibility) or `histplot` (an axes-level function for histograms).\n",
      "  warnings.warn(msg, FutureWarning)\n"
     ]
    },
    {
     "data": {
      "text/plain": [
       "<AxesSubplot:xlabel='Original Price', ylabel='Density'>"
      ]
     },
     "execution_count": 363,
     "metadata": {},
     "output_type": "execute_result"
    },
    {
     "data": {
      "image/png": "[encoded data removed]",
      "text/plain": [
       "<Figure size 432x288 with 1 Axes>"
      ]
     },
     "metadata": {
      "needs_background": "light"
     },
     "output_type": "display_data"
    }
   ],
   "source": [
    "sns.distplot(data['Original Price'], bins=25,color='r')"
   ]
  },
  {
   "cell_type": "code",
   "execution_count": 405,
   "id": "188074f7",
   "metadata": {},
   "outputs": [
    {
     "data": {
      "image/png": "[encoded data removed]",
      "text/plain": [
       "<Figure size 648x576 with 1 Axes>"
      ]
     },
     "metadata": {
      "needs_background": "light"
     },
     "output_type": "display_data"
    }
   ],
   "source": [
    "df_1= data.groupby(['Tyre Brand']).mean()['Selling Price'].sort_values(ascending=True)\n",
    "plt.figure(figsize=(9, 8))\n",
    "df_1.plot(kind='barh', width=0.7, color='lightsteelblue', label=True)\n",
    "plt.xticks(rotation=0,fontsize=12, fontweight='bold');\n",
    "plt.yticks(rotation=0,fontsize=11, fontweight='bold');"
   ]
  },
  {
   "cell_type": "code",
   "execution_count": 454,
   "id": "d54d2f3d",
   "metadata": {},
   "outputs": [
    {
     "data": {
      "text/html": [
       "<div>\n",
       "<style scoped>\n",
       "    .dataframe tbody tr th:only-of-type {\n",
       "        vertical-align: middle;\n",
       "    }\n",
       "\n",
       "    .dataframe tbody tr th {\n",
       "        vertical-align: top;\n",
       "    }\n",
       "\n",
       "    .dataframe thead th {\n",
       "        text-align: right;\n",
       "    }\n",
       "</style>\n",
       "<table border=\"1\" class=\"dataframe\">\n",
       "  <thead>\n",
       "    <tr style=\"text-align: right;\">\n",
       "      <th></th>\n",
       "      <th>Load Index</th>\n",
       "      <th>Selling Price</th>\n",
       "      <th>Original Price</th>\n",
       "      <th>Rating</th>\n",
       "    </tr>\n",
       "  </thead>\n",
       "  <tbody>\n",
       "    <tr>\n",
       "      <th>Load Index</th>\n",
       "      <td>1.000000</td>\n",
       "      <td>0.763205</td>\n",
       "      <td>0.764562</td>\n",
       "      <td>-0.029586</td>\n",
       "    </tr>\n",
       "    <tr>\n",
       "      <th>Selling Price</th>\n",
       "      <td>0.763205</td>\n",
       "      <td>1.000000</td>\n",
       "      <td>0.995971</td>\n",
       "      <td>-0.090985</td>\n",
       "    </tr>\n",
       "    <tr>\n",
       "      <th>Original Price</th>\n",
       "      <td>0.764562</td>\n",
       "      <td>0.995971</td>\n",
       "      <td>1.000000</td>\n",
       "      <td>-0.103427</td>\n",
       "    </tr>\n",
       "    <tr>\n",
       "      <th>Rating</th>\n",
       "      <td>-0.029586</td>\n",
       "      <td>-0.090985</td>\n",
       "      <td>-0.103427</td>\n",
       "      <td>1.000000</td>\n",
       "    </tr>\n",
       "  </tbody>\n",
       "</table>\n",
       "</div>"
      ],
      "text/plain": [
       "                Load Index  Selling Price  Original Price    Rating\n",
       "Load Index        1.000000       0.763205        0.764562 -0.029586\n",
       "Selling Price     0.763205       1.000000        0.995971 -0.090985\n",
       "Original Price    0.764562       0.995971        1.000000 -0.103427\n",
       "Rating           -0.029586      -0.090985       -0.103427  1.000000"
      ]
     },
     "execution_count": 454,
     "metadata": {},
     "output_type": "execute_result"
    }
   ],
   "source": [
    "data.corr()"
   ]
  },
  {
   "cell_type": "code",
   "execution_count": 372,
   "id": "169c4e18",
   "metadata": {},
   "outputs": [
    {
     "data": {
      "text/plain": [
       "<AxesSubplot:xlabel='Load Index', ylabel='Original Price'>"
      ]
     },
     "execution_count": 372,
     "metadata": {},
     "output_type": "execute_result"
    },
    {
     "data": {
      "image/png": "[encoded data removed]",
      "text/plain": [
       "<Figure size 432x288 with 1 Axes>"
      ]
     },
     "metadata": {
      "needs_background": "light"
     },
     "output_type": "display_data"
    }
   ],
   "source": [
    "sns.scatterplot(x='Load Index', y='Original Price',s=50, data=data)"
   ]
  },
  {
   "cell_type": "markdown",
   "id": "58619744",
   "metadata": {},
   "source": [
    "## 🎯Conclusions:\n",
    "\n",
    "### 1) Tubeless tyres have the highest demand. 93% of the cars manufactured are of tubeless type.\n",
    "### 2) Tyre brand \"Bridgestone\" is ahead in the competition and it is a top brand used to manufacture mainly tubeless cars.\n",
    "### 3) Firestone is the tyre brand which has maximum average ratings followed by pirelli.\n",
    "### 4) It has been observed from the analysis that Ciaz is ruling the market.\n",
    "### 5) 188/65 R15 is the most used size of tyres.\n",
    "### 6) There is a moderate positive correlation between the original price of tyre and load index.Load index is the factor which is taken into account while deciding the original price as tyre's load index gives the maximum amount of weight that each individual tyre can carry."
   ]
  }
 ],
 "metadata": {
  "kernelspec": {
   "display_name": "Python 3",
   "language": "python",
   "name": "python3"
  },
  "language_info": {
   "codemirror_mode": {
    "name": "ipython",
    "version": 3
   },
   "file_extension": ".py",
   "mimetype": "text/x-python",
   "name": "python",
   "nbconvert_exporter": "python",
   "pygments_lexer": "ipython3",
   "version": "3.8.8"
  }
 },
 "nbformat": 4,
 "nbformat_minor": 5
}
